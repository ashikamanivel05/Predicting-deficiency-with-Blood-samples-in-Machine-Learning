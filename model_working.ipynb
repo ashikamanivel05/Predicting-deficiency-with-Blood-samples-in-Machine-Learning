{
  "cells": [
    {
      "cell_type": "code",
      "execution_count": 9,
      "metadata": {
        "id": "vkbbi3Gz1v7q"
      },
      "outputs": [],
      "source": [
        "import joblib\n",
        "import pandas as pd"
      ]
    },
    {
      "cell_type": "code",
      "execution_count": 2,
      "metadata": {
        "id": "AyWnr03v10pS"
      },
      "outputs": [],
      "source": [
        "model = joblib.load('model.joblib')"
      ]
    },
    {
      "cell_type": "code",
      "execution_count": 10,
      "metadata": {
        "id": "MEd-bMRG198U"
      },
      "outputs": [],
      "source": [
        "def prediction(glucose, cholesterol, hemoglobin, platelets, white_blood_cells,\n",
        "               bmi, systolic_blood_pressure, triglycerides, ldl_cholesterol,\n",
        "               creatinine, c_reactive_protein):\n",
        "\n",
        "  features = pd.DataFrame({\n",
        "   'Glucose':[glucose],\n",
        "   'Cholesterol':[cholesterol],\n",
        "   'Hemoglobin':[hemoglobin],\n",
        "   'Platelets':[platelets],\n",
        "   'White Blood Cells':[white_blood_cells],\n",
        "   'BMI':[bmi],\n",
        "   'Systolic Blood Pressure':[systolic_blood_pressure],\n",
        "   'Triglycerides':[triglycerides],\n",
        "    'LDL Cholesterol':[ldl_cholesterol],\n",
        "    'Creatinine':[creatinine],\n",
        "   'C-reactive Protein':[c_reactive_protein]\n",
        "\n",
        "  })\n",
        "\n",
        "  prediction = model.predict(features)\n",
        "  return prediction\n",
        "\n"
      ]
    },
    {
      "cell_type": "code",
      "execution_count": 11,
      "metadata": {
        "colab": {
          "base_uri": "https://localhost:8080/"
        },
        "id": "ESbamaac2HE4",
        "outputId": "5bd2b1b8-a363-4d77-b3a0-15784f887082"
      },
      "outputs": [
        {
          "name": "stdout",
          "output_type": "stream",
          "text": [
            "['Diabetes']\n"
          ]
        }
      ],
      "source": [
        "glucose=90\n",
        "cholesterol=180\n",
        "hemoglobin=14.2\n",
        "platelets=250000\n",
        "white_blood_cells=7000\n",
        "bmi=25.5\n",
        "systolic_blood_pressure=120\n",
        "triglycerides=150\n",
        "ldl_cholesterol=100\n",
        "creatinine=1.0\n",
        "c_reactive_protein=5.5\n",
        "\n",
        "result = prediction(glucose, cholesterol, hemoglobin, platelets, white_blood_cells,\n",
        "               bmi, systolic_blood_pressure, triglycerides, ldl_cholesterol,\n",
        "               creatinine, c_reactive_protein)\n",
        "\n",
        "print(result)"
      ]
    }
  ],
  "metadata": {
    "colab": {
      "provenance": []
    },
    "kernelspec": {
      "display_name": "Python 3",
      "name": "python3"
    },
    "language_info": {
      "name": "python"
    }
  },
  "nbformat": 4,
  "nbformat_minor": 0
}
